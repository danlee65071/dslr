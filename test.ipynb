{
 "cells": [
  {
   "cell_type": "code",
   "execution_count": 2,
   "id": "e7f6a2ad",
   "metadata": {},
   "outputs": [],
   "source": [
    "import pandas as pd"
   ]
  },
  {
   "cell_type": "code",
   "execution_count": 3,
   "id": "0b894208",
   "metadata": {},
   "outputs": [
    {
     "data": {
      "text/plain": "     Index  Hogwarts House First Name    Last Name    Birthday Best Hand  \\\n0        0             NaN       Rico      Sargent  2001-10-06     Right   \n1        1             NaN     Tamara  Shackelford  1998-01-08      Left   \n2        2             NaN      Staci     Crandall  1998-09-15      Left   \n3        3             NaN        Dee        Gavin  2001-05-10     Right   \n4        4             NaN    Gregory    Gustafson  1999-02-01     Right   \n..     ...             ...        ...          ...         ...       ...   \n395    395             NaN      Maria      Kidwell  1999-02-06      Left   \n396    396             NaN   Frederic       Koonce  1997-11-11      Left   \n397    397             NaN     Eugene      Peralta  1998-11-14     Right   \n398    398             NaN      Allan      Bentley  1998-10-13      Left   \n399    399             NaN   Clarence         Pope  1999-07-26      Left   \n\n     Arithmancy   Astronomy  Herbology  Defense Against the Dark Arts  \\\n0       41642.0  696.096071   3.020172                      -6.960961   \n1       45352.0 -370.844655   2.965226                       3.708447   \n2       43502.0  320.303990  -6.185697                      -3.203040   \n3       61831.0  407.202928   4.962442                            NaN   \n4           NaN  288.337747   3.737656                      -2.883377   \n..          ...         ...        ...                            ...   \n395     45857.0 -554.181932  -5.647655                       5.541819   \n396     51842.0  632.233530   6.754862                      -6.322335   \n397     61982.0  292.108738   5.234530                      -2.921087   \n398     56020.0 -726.418553   6.735582                       7.264186   \n399     46452.0 -735.939727   7.224872                            NaN   \n\n     Divination  Muggle Studies  Ancient Runes  History of Magic  \\\n0         7.996     -365.151850     393.138185          4.207691   \n1         6.349      522.580486     602.853051          6.460017   \n2         4.619     -630.073207     588.071795         -5.565818   \n3           NaN     -449.179806     427.699966               NaN   \n4         4.886     -449.732166     385.712782          2.876347   \n..          ...             ...            ...               ...   \n395      -3.799     -591.764651     392.973420          7.048482   \n396       3.294     -221.848397     319.360250          3.921402   \n397       4.230     -787.036050     433.259967          3.898160   \n398       3.908      511.960762     613.391514          7.244499   \n399       2.889             NaN     513.457470          3.095942   \n\n     Transfiguration    Potions  Care of Magical Creatures     Charms  Flying  \n0        1046.742736   3.668983                   0.373853 -244.48172  -13.62  \n1        1048.053878   8.514622                   0.577432 -231.29200  -26.26  \n2         936.437358   1.850829                  -1.647150 -252.99343  200.15  \n3        1043.397718   4.656573                   1.164708 -244.01660  -11.15  \n4        1051.377936   2.750586                   0.102104 -243.99806   -7.12  \n..               ...        ...                        ...        ...     ...  \n395      1047.648405  10.408749                   1.882786 -248.39978  -94.89  \n396      1035.681313  -0.169741                  -1.074303 -246.87982  -15.53  \n397      1069.794110   6.495579                  -2.286537 -244.01333    1.25  \n398      1042.058804   7.554259                  -0.788817 -228.24290  -18.27  \n399      1035.331589   0.477165                   0.975627 -230.70067   -8.78  \n\n[400 rows x 19 columns]",
      "text/html": "<div>\n<style scoped>\n    .dataframe tbody tr th:only-of-type {\n        vertical-align: middle;\n    }\n\n    .dataframe tbody tr th {\n        vertical-align: top;\n    }\n\n    .dataframe thead th {\n        text-align: right;\n    }\n</style>\n<table border=\"1\" class=\"dataframe\">\n  <thead>\n    <tr style=\"text-align: right;\">\n      <th></th>\n      <th>Index</th>\n      <th>Hogwarts House</th>\n      <th>First Name</th>\n      <th>Last Name</th>\n      <th>Birthday</th>\n      <th>Best Hand</th>\n      <th>Arithmancy</th>\n      <th>Astronomy</th>\n      <th>Herbology</th>\n      <th>Defense Against the Dark Arts</th>\n      <th>Divination</th>\n      <th>Muggle Studies</th>\n      <th>Ancient Runes</th>\n      <th>History of Magic</th>\n      <th>Transfiguration</th>\n      <th>Potions</th>\n      <th>Care of Magical Creatures</th>\n      <th>Charms</th>\n      <th>Flying</th>\n    </tr>\n  </thead>\n  <tbody>\n    <tr>\n      <th>0</th>\n      <td>0</td>\n      <td>NaN</td>\n      <td>Rico</td>\n      <td>Sargent</td>\n      <td>2001-10-06</td>\n      <td>Right</td>\n      <td>41642.0</td>\n      <td>696.096071</td>\n      <td>3.020172</td>\n      <td>-6.960961</td>\n      <td>7.996</td>\n      <td>-365.151850</td>\n      <td>393.138185</td>\n      <td>4.207691</td>\n      <td>1046.742736</td>\n      <td>3.668983</td>\n      <td>0.373853</td>\n      <td>-244.48172</td>\n      <td>-13.62</td>\n    </tr>\n    <tr>\n      <th>1</th>\n      <td>1</td>\n      <td>NaN</td>\n      <td>Tamara</td>\n      <td>Shackelford</td>\n      <td>1998-01-08</td>\n      <td>Left</td>\n      <td>45352.0</td>\n      <td>-370.844655</td>\n      <td>2.965226</td>\n      <td>3.708447</td>\n      <td>6.349</td>\n      <td>522.580486</td>\n      <td>602.853051</td>\n      <td>6.460017</td>\n      <td>1048.053878</td>\n      <td>8.514622</td>\n      <td>0.577432</td>\n      <td>-231.29200</td>\n      <td>-26.26</td>\n    </tr>\n    <tr>\n      <th>2</th>\n      <td>2</td>\n      <td>NaN</td>\n      <td>Staci</td>\n      <td>Crandall</td>\n      <td>1998-09-15</td>\n      <td>Left</td>\n      <td>43502.0</td>\n      <td>320.303990</td>\n      <td>-6.185697</td>\n      <td>-3.203040</td>\n      <td>4.619</td>\n      <td>-630.073207</td>\n      <td>588.071795</td>\n      <td>-5.565818</td>\n      <td>936.437358</td>\n      <td>1.850829</td>\n      <td>-1.647150</td>\n      <td>-252.99343</td>\n      <td>200.15</td>\n    </tr>\n    <tr>\n      <th>3</th>\n      <td>3</td>\n      <td>NaN</td>\n      <td>Dee</td>\n      <td>Gavin</td>\n      <td>2001-05-10</td>\n      <td>Right</td>\n      <td>61831.0</td>\n      <td>407.202928</td>\n      <td>4.962442</td>\n      <td>NaN</td>\n      <td>NaN</td>\n      <td>-449.179806</td>\n      <td>427.699966</td>\n      <td>NaN</td>\n      <td>1043.397718</td>\n      <td>4.656573</td>\n      <td>1.164708</td>\n      <td>-244.01660</td>\n      <td>-11.15</td>\n    </tr>\n    <tr>\n      <th>4</th>\n      <td>4</td>\n      <td>NaN</td>\n      <td>Gregory</td>\n      <td>Gustafson</td>\n      <td>1999-02-01</td>\n      <td>Right</td>\n      <td>NaN</td>\n      <td>288.337747</td>\n      <td>3.737656</td>\n      <td>-2.883377</td>\n      <td>4.886</td>\n      <td>-449.732166</td>\n      <td>385.712782</td>\n      <td>2.876347</td>\n      <td>1051.377936</td>\n      <td>2.750586</td>\n      <td>0.102104</td>\n      <td>-243.99806</td>\n      <td>-7.12</td>\n    </tr>\n    <tr>\n      <th>...</th>\n      <td>...</td>\n      <td>...</td>\n      <td>...</td>\n      <td>...</td>\n      <td>...</td>\n      <td>...</td>\n      <td>...</td>\n      <td>...</td>\n      <td>...</td>\n      <td>...</td>\n      <td>...</td>\n      <td>...</td>\n      <td>...</td>\n      <td>...</td>\n      <td>...</td>\n      <td>...</td>\n      <td>...</td>\n      <td>...</td>\n      <td>...</td>\n    </tr>\n    <tr>\n      <th>395</th>\n      <td>395</td>\n      <td>NaN</td>\n      <td>Maria</td>\n      <td>Kidwell</td>\n      <td>1999-02-06</td>\n      <td>Left</td>\n      <td>45857.0</td>\n      <td>-554.181932</td>\n      <td>-5.647655</td>\n      <td>5.541819</td>\n      <td>-3.799</td>\n      <td>-591.764651</td>\n      <td>392.973420</td>\n      <td>7.048482</td>\n      <td>1047.648405</td>\n      <td>10.408749</td>\n      <td>1.882786</td>\n      <td>-248.39978</td>\n      <td>-94.89</td>\n    </tr>\n    <tr>\n      <th>396</th>\n      <td>396</td>\n      <td>NaN</td>\n      <td>Frederic</td>\n      <td>Koonce</td>\n      <td>1997-11-11</td>\n      <td>Left</td>\n      <td>51842.0</td>\n      <td>632.233530</td>\n      <td>6.754862</td>\n      <td>-6.322335</td>\n      <td>3.294</td>\n      <td>-221.848397</td>\n      <td>319.360250</td>\n      <td>3.921402</td>\n      <td>1035.681313</td>\n      <td>-0.169741</td>\n      <td>-1.074303</td>\n      <td>-246.87982</td>\n      <td>-15.53</td>\n    </tr>\n    <tr>\n      <th>397</th>\n      <td>397</td>\n      <td>NaN</td>\n      <td>Eugene</td>\n      <td>Peralta</td>\n      <td>1998-11-14</td>\n      <td>Right</td>\n      <td>61982.0</td>\n      <td>292.108738</td>\n      <td>5.234530</td>\n      <td>-2.921087</td>\n      <td>4.230</td>\n      <td>-787.036050</td>\n      <td>433.259967</td>\n      <td>3.898160</td>\n      <td>1069.794110</td>\n      <td>6.495579</td>\n      <td>-2.286537</td>\n      <td>-244.01333</td>\n      <td>1.25</td>\n    </tr>\n    <tr>\n      <th>398</th>\n      <td>398</td>\n      <td>NaN</td>\n      <td>Allan</td>\n      <td>Bentley</td>\n      <td>1998-10-13</td>\n      <td>Left</td>\n      <td>56020.0</td>\n      <td>-726.418553</td>\n      <td>6.735582</td>\n      <td>7.264186</td>\n      <td>3.908</td>\n      <td>511.960762</td>\n      <td>613.391514</td>\n      <td>7.244499</td>\n      <td>1042.058804</td>\n      <td>7.554259</td>\n      <td>-0.788817</td>\n      <td>-228.24290</td>\n      <td>-18.27</td>\n    </tr>\n    <tr>\n      <th>399</th>\n      <td>399</td>\n      <td>NaN</td>\n      <td>Clarence</td>\n      <td>Pope</td>\n      <td>1999-07-26</td>\n      <td>Left</td>\n      <td>46452.0</td>\n      <td>-735.939727</td>\n      <td>7.224872</td>\n      <td>NaN</td>\n      <td>2.889</td>\n      <td>NaN</td>\n      <td>513.457470</td>\n      <td>3.095942</td>\n      <td>1035.331589</td>\n      <td>0.477165</td>\n      <td>0.975627</td>\n      <td>-230.70067</td>\n      <td>-8.78</td>\n    </tr>\n  </tbody>\n</table>\n<p>400 rows × 19 columns</p>\n</div>"
     },
     "execution_count": 3,
     "metadata": {},
     "output_type": "execute_result"
    }
   ],
   "source": [
    "dt = pd.read_csv('datasets/dataset_test.csv')\n",
    "dt"
   ]
  },
  {
   "cell_type": "code",
   "execution_count": 7,
   "id": "3385c5be",
   "metadata": {},
   "outputs": [
    {
     "data": {
      "text/plain": "            Index  Hogwarts House    Arithmancy   Astronomy   Herbology  \\\ncount  400.000000             0.0    387.000000  387.000000  389.000000   \nmean   199.500000             NaN  50088.971576   48.155326    1.385517   \nstd    115.614301             NaN  15472.748364  512.537781    5.055295   \nmin      0.000000             NaN   4536.000000 -802.725180   -9.687662   \n25%     99.750000             NaN  40167.500000 -483.719690   -4.183731   \n50%    199.500000             NaN  49238.000000  292.108738    3.630490   \n75%    299.250000             NaN  60157.000000  508.713093    5.405685   \nmax    399.000000             NaN  99744.000000  870.063498    9.678462   \n\n       Defense Against the Dark Arts  Divination  Muggle Studies  \\\ncount                     392.000000  394.000000      390.000000   \nmean                       -0.537843    3.411071     -220.169594   \nstd                         5.118762    3.891192      497.668782   \nmin                        -8.700635   -8.183000    -1041.323658   \n25%                        -5.209348    3.528750     -580.049325   \n50%                        -2.915654    4.703000     -407.549022   \n75%                         4.785055    5.571000      221.387925   \nmax                         8.027252    8.604000      939.317135   \n\n       Ancient Runes  History of Magic  Transfiguration     Potions  \\\ncount     392.000000        389.000000       389.000000  390.000000   \nmean      495.937543          2.829816      1030.885777    5.776860   \nstd       101.657418          4.317209        45.346899    3.217625   \nmin       319.360250         -7.189090       906.932050   -1.162060   \n25%       400.719831          2.227669      1028.499974    3.230372   \n50%       484.102477          4.290164      1047.648405    5.731330   \n75%       591.372101          5.662488      1060.367924    8.136907   \nmax       667.674165         10.366995      1099.966073   13.390013   \n\n       Care of Magical Creatures      Charms      Flying  \ncount                 392.000000  400.000000  400.000000  \nmean                    0.022985 -243.181109   23.367450  \nstd                     1.019005    8.727190   95.185944  \nmin                    -2.871119 -259.866780 -143.520000  \n25%                    -0.646285 -250.150987  -38.475000  \n50%                     0.059416 -244.758710   -2.555000  \n75%                     0.711248 -232.798160   45.332500  \nmax                     3.205525 -226.003820  282.430000  ",
      "text/html": "<div>\n<style scoped>\n    .dataframe tbody tr th:only-of-type {\n        vertical-align: middle;\n    }\n\n    .dataframe tbody tr th {\n        vertical-align: top;\n    }\n\n    .dataframe thead th {\n        text-align: right;\n    }\n</style>\n<table border=\"1\" class=\"dataframe\">\n  <thead>\n    <tr style=\"text-align: right;\">\n      <th></th>\n      <th>Index</th>\n      <th>Hogwarts House</th>\n      <th>Arithmancy</th>\n      <th>Astronomy</th>\n      <th>Herbology</th>\n      <th>Defense Against the Dark Arts</th>\n      <th>Divination</th>\n      <th>Muggle Studies</th>\n      <th>Ancient Runes</th>\n      <th>History of Magic</th>\n      <th>Transfiguration</th>\n      <th>Potions</th>\n      <th>Care of Magical Creatures</th>\n      <th>Charms</th>\n      <th>Flying</th>\n    </tr>\n  </thead>\n  <tbody>\n    <tr>\n      <th>count</th>\n      <td>400.000000</td>\n      <td>0.0</td>\n      <td>387.000000</td>\n      <td>387.000000</td>\n      <td>389.000000</td>\n      <td>392.000000</td>\n      <td>394.000000</td>\n      <td>390.000000</td>\n      <td>392.000000</td>\n      <td>389.000000</td>\n      <td>389.000000</td>\n      <td>390.000000</td>\n      <td>392.000000</td>\n      <td>400.000000</td>\n      <td>400.000000</td>\n    </tr>\n    <tr>\n      <th>mean</th>\n      <td>199.500000</td>\n      <td>NaN</td>\n      <td>50088.971576</td>\n      <td>48.155326</td>\n      <td>1.385517</td>\n      <td>-0.537843</td>\n      <td>3.411071</td>\n      <td>-220.169594</td>\n      <td>495.937543</td>\n      <td>2.829816</td>\n      <td>1030.885777</td>\n      <td>5.776860</td>\n      <td>0.022985</td>\n      <td>-243.181109</td>\n      <td>23.367450</td>\n    </tr>\n    <tr>\n      <th>std</th>\n      <td>115.614301</td>\n      <td>NaN</td>\n      <td>15472.748364</td>\n      <td>512.537781</td>\n      <td>5.055295</td>\n      <td>5.118762</td>\n      <td>3.891192</td>\n      <td>497.668782</td>\n      <td>101.657418</td>\n      <td>4.317209</td>\n      <td>45.346899</td>\n      <td>3.217625</td>\n      <td>1.019005</td>\n      <td>8.727190</td>\n      <td>95.185944</td>\n    </tr>\n    <tr>\n      <th>min</th>\n      <td>0.000000</td>\n      <td>NaN</td>\n      <td>4536.000000</td>\n      <td>-802.725180</td>\n      <td>-9.687662</td>\n      <td>-8.700635</td>\n      <td>-8.183000</td>\n      <td>-1041.323658</td>\n      <td>319.360250</td>\n      <td>-7.189090</td>\n      <td>906.932050</td>\n      <td>-1.162060</td>\n      <td>-2.871119</td>\n      <td>-259.866780</td>\n      <td>-143.520000</td>\n    </tr>\n    <tr>\n      <th>25%</th>\n      <td>99.750000</td>\n      <td>NaN</td>\n      <td>40167.500000</td>\n      <td>-483.719690</td>\n      <td>-4.183731</td>\n      <td>-5.209348</td>\n      <td>3.528750</td>\n      <td>-580.049325</td>\n      <td>400.719831</td>\n      <td>2.227669</td>\n      <td>1028.499974</td>\n      <td>3.230372</td>\n      <td>-0.646285</td>\n      <td>-250.150987</td>\n      <td>-38.475000</td>\n    </tr>\n    <tr>\n      <th>50%</th>\n      <td>199.500000</td>\n      <td>NaN</td>\n      <td>49238.000000</td>\n      <td>292.108738</td>\n      <td>3.630490</td>\n      <td>-2.915654</td>\n      <td>4.703000</td>\n      <td>-407.549022</td>\n      <td>484.102477</td>\n      <td>4.290164</td>\n      <td>1047.648405</td>\n      <td>5.731330</td>\n      <td>0.059416</td>\n      <td>-244.758710</td>\n      <td>-2.555000</td>\n    </tr>\n    <tr>\n      <th>75%</th>\n      <td>299.250000</td>\n      <td>NaN</td>\n      <td>60157.000000</td>\n      <td>508.713093</td>\n      <td>5.405685</td>\n      <td>4.785055</td>\n      <td>5.571000</td>\n      <td>221.387925</td>\n      <td>591.372101</td>\n      <td>5.662488</td>\n      <td>1060.367924</td>\n      <td>8.136907</td>\n      <td>0.711248</td>\n      <td>-232.798160</td>\n      <td>45.332500</td>\n    </tr>\n    <tr>\n      <th>max</th>\n      <td>399.000000</td>\n      <td>NaN</td>\n      <td>99744.000000</td>\n      <td>870.063498</td>\n      <td>9.678462</td>\n      <td>8.027252</td>\n      <td>8.604000</td>\n      <td>939.317135</td>\n      <td>667.674165</td>\n      <td>10.366995</td>\n      <td>1099.966073</td>\n      <td>13.390013</td>\n      <td>3.205525</td>\n      <td>-226.003820</td>\n      <td>282.430000</td>\n    </tr>\n  </tbody>\n</table>\n</div>"
     },
     "execution_count": 7,
     "metadata": {},
     "output_type": "execute_result"
    }
   ],
   "source": [
    "dt.describe()"
   ]
  },
  {
   "cell_type": "code",
   "execution_count": 8,
   "id": "af1018fb",
   "metadata": {},
   "outputs": [
    {
     "name": "stdout",
     "output_type": "stream",
     "text": [
      "<class 'pandas.core.frame.DataFrame'>\n",
      "RangeIndex: 400 entries, 0 to 399\n",
      "Data columns (total 19 columns):\n",
      " #   Column                         Non-Null Count  Dtype  \n",
      "---  ------                         --------------  -----  \n",
      " 0   Index                          400 non-null    int64  \n",
      " 1   Hogwarts House                 0 non-null      float64\n",
      " 2   First Name                     400 non-null    object \n",
      " 3   Last Name                      400 non-null    object \n",
      " 4   Birthday                       400 non-null    object \n",
      " 5   Best Hand                      400 non-null    object \n",
      " 6   Arithmancy                     387 non-null    float64\n",
      " 7   Astronomy                      387 non-null    float64\n",
      " 8   Herbology                      389 non-null    float64\n",
      " 9   Defense Against the Dark Arts  392 non-null    float64\n",
      " 10  Divination                     394 non-null    float64\n",
      " 11  Muggle Studies                 390 non-null    float64\n",
      " 12  Ancient Runes                  392 non-null    float64\n",
      " 13  History of Magic               389 non-null    float64\n",
      " 14  Transfiguration                389 non-null    float64\n",
      " 15  Potions                        390 non-null    float64\n",
      " 16  Care of Magical Creatures      392 non-null    float64\n",
      " 17  Charms                         400 non-null    float64\n",
      " 18  Flying                         400 non-null    float64\n",
      "dtypes: float64(14), int64(1), object(4)\n",
      "memory usage: 59.5+ KB\n"
     ]
    }
   ],
   "source": [
    "dt.info()"
   ]
  },
  {
   "cell_type": "code",
   "execution_count": null,
   "id": "3edbbfee",
   "metadata": {},
   "outputs": [],
   "source": []
  }
 ],
 "metadata": {
  "kernelspec": {
   "display_name": "Python 3 (ipykernel)",
   "language": "python",
   "name": "python3"
  },
  "language_info": {
   "codemirror_mode": {
    "name": "ipython",
    "version": 3
   },
   "file_extension": ".py",
   "mimetype": "text/x-python",
   "name": "python",
   "nbconvert_exporter": "python",
   "pygments_lexer": "ipython3",
   "version": "3.9.7"
  }
 },
 "nbformat": 4,
 "nbformat_minor": 5
}