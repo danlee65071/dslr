{
 "cells": [
  {
   "cell_type": "code",
   "execution_count": 11,
   "id": "e7f6a2ad",
   "metadata": {},
   "outputs": [],
   "source": [
    "import pandas as pd\n",
    "import numpy as np\n",
    "import matplotlib.pyplot as plt"
   ]
  },
  {
   "cell_type": "code",
   "execution_count": 13,
   "id": "0b894208",
   "metadata": {},
   "outputs": [
    {
     "data": {
      "text/plain": "      Index Hogwarts House First Name    Last Name    Birthday Best Hand  \\\n0         0      Ravenclaw     Tamara          Hsu  2000-03-30      Left   \n1         1      Slytherin      Erich      Paredes  1999-10-14     Right   \n2         2      Ravenclaw   Stephany        Braun  1999-11-03      Left   \n3         3     Gryffindor      Vesta    Mcmichael  2000-08-19      Left   \n4         4     Gryffindor     Gaston        Gibbs  1998-09-27      Left   \n...     ...            ...        ...          ...         ...       ...   \n1595   1595     Gryffindor       Jung        Blank  2001-09-14     Right   \n1596   1596      Slytherin     Shelli         Lock  1998-03-12      Left   \n1597   1597     Gryffindor   Benjamin  Christensen  1999-10-24     Right   \n1598   1598     Hufflepuff  Charlotte       Dillon  2001-09-21      Left   \n1599   1599     Hufflepuff      Kylie        Nowak  2000-08-21      Left   \n\n      Arithmancy   Astronomy  Herbology  Defense Against the Dark Arts  \\\n0        58384.0 -487.886086   5.727180                       4.878861   \n1        67239.0 -552.060507  -5.987446                       5.520605   \n2        23702.0 -366.076117   7.725017                       3.660761   \n3        32667.0  697.742809  -6.497214                      -6.977428   \n4        60158.0  436.775204  -7.820623                            NaN   \n...          ...         ...        ...                            ...   \n1595     49009.0  354.280086  -4.541837                      -3.542801   \n1596     63296.0  367.531174   6.061064                      -3.675312   \n1597     63905.0  544.018925  -3.203269                      -5.440189   \n1598     82713.0  453.676219   3.442831                      -4.536762   \n1599     48639.0  688.911989   5.421046                      -6.889120   \n\n      Divination  Muggle Studies  Ancient Runes  History of Magic  \\\n0          4.722      272.035831     532.484226          5.231058   \n1         -5.612     -487.340557     367.760303          4.107170   \n2          6.140      664.893521     602.585284          3.555579   \n3          4.026     -537.001128     523.982133         -4.809637   \n4          2.236     -444.262537     599.324514         -3.444377   \n...          ...             ...            ...               ...   \n1595       5.702     -497.235066     618.220213         -5.231721   \n1596       1.757     -643.271092     445.827565          2.238112   \n1597       6.065     -385.150457     635.211486         -5.984257   \n1598       6.738     -831.741123     383.444937          3.813111   \n1599       6.593     -234.207911     339.775154          7.208415   \n\n      Transfiguration   Potions  Care of Magical Creatures     Charms  Flying  \n0         1039.788281  3.790369                   0.715939 -232.79405  -26.89  \n1         1058.944592  7.248742                   0.091674 -252.18425 -113.45  \n2         1088.088348  8.728531                  -0.515327 -227.34265   30.42  \n3          920.391449  0.821911                  -0.014040 -256.84675  200.64  \n4          937.434724  4.311066                  -0.264070 -256.38730  157.98  \n...               ...       ...                        ...        ...     ...  \n1595       964.219853  3.389086                  -0.649983 -250.39401  185.83  \n1596      1056.147366  5.825263                  -0.333962 -246.42719   44.80  \n1597       953.866685  1.709808                   0.071569 -251.63679  198.47  \n1598      1087.949205  3.904100                  -0.531875 -246.19072  -76.81  \n1599      1034.928004  2.052215                   0.150532 -244.02063  -54.77  \n\n[1600 rows x 19 columns]",
      "text/html": "<div>\n<style scoped>\n    .dataframe tbody tr th:only-of-type {\n        vertical-align: middle;\n    }\n\n    .dataframe tbody tr th {\n        vertical-align: top;\n    }\n\n    .dataframe thead th {\n        text-align: right;\n    }\n</style>\n<table border=\"1\" class=\"dataframe\">\n  <thead>\n    <tr style=\"text-align: right;\">\n      <th></th>\n      <th>Index</th>\n      <th>Hogwarts House</th>\n      <th>First Name</th>\n      <th>Last Name</th>\n      <th>Birthday</th>\n      <th>Best Hand</th>\n      <th>Arithmancy</th>\n      <th>Astronomy</th>\n      <th>Herbology</th>\n      <th>Defense Against the Dark Arts</th>\n      <th>Divination</th>\n      <th>Muggle Studies</th>\n      <th>Ancient Runes</th>\n      <th>History of Magic</th>\n      <th>Transfiguration</th>\n      <th>Potions</th>\n      <th>Care of Magical Creatures</th>\n      <th>Charms</th>\n      <th>Flying</th>\n    </tr>\n  </thead>\n  <tbody>\n    <tr>\n      <th>0</th>\n      <td>0</td>\n      <td>Ravenclaw</td>\n      <td>Tamara</td>\n      <td>Hsu</td>\n      <td>2000-03-30</td>\n      <td>Left</td>\n      <td>58384.0</td>\n      <td>-487.886086</td>\n      <td>5.727180</td>\n      <td>4.878861</td>\n      <td>4.722</td>\n      <td>272.035831</td>\n      <td>532.484226</td>\n      <td>5.231058</td>\n      <td>1039.788281</td>\n      <td>3.790369</td>\n      <td>0.715939</td>\n      <td>-232.79405</td>\n      <td>-26.89</td>\n    </tr>\n    <tr>\n      <th>1</th>\n      <td>1</td>\n      <td>Slytherin</td>\n      <td>Erich</td>\n      <td>Paredes</td>\n      <td>1999-10-14</td>\n      <td>Right</td>\n      <td>67239.0</td>\n      <td>-552.060507</td>\n      <td>-5.987446</td>\n      <td>5.520605</td>\n      <td>-5.612</td>\n      <td>-487.340557</td>\n      <td>367.760303</td>\n      <td>4.107170</td>\n      <td>1058.944592</td>\n      <td>7.248742</td>\n      <td>0.091674</td>\n      <td>-252.18425</td>\n      <td>-113.45</td>\n    </tr>\n    <tr>\n      <th>2</th>\n      <td>2</td>\n      <td>Ravenclaw</td>\n      <td>Stephany</td>\n      <td>Braun</td>\n      <td>1999-11-03</td>\n      <td>Left</td>\n      <td>23702.0</td>\n      <td>-366.076117</td>\n      <td>7.725017</td>\n      <td>3.660761</td>\n      <td>6.140</td>\n      <td>664.893521</td>\n      <td>602.585284</td>\n      <td>3.555579</td>\n      <td>1088.088348</td>\n      <td>8.728531</td>\n      <td>-0.515327</td>\n      <td>-227.34265</td>\n      <td>30.42</td>\n    </tr>\n    <tr>\n      <th>3</th>\n      <td>3</td>\n      <td>Gryffindor</td>\n      <td>Vesta</td>\n      <td>Mcmichael</td>\n      <td>2000-08-19</td>\n      <td>Left</td>\n      <td>32667.0</td>\n      <td>697.742809</td>\n      <td>-6.497214</td>\n      <td>-6.977428</td>\n      <td>4.026</td>\n      <td>-537.001128</td>\n      <td>523.982133</td>\n      <td>-4.809637</td>\n      <td>920.391449</td>\n      <td>0.821911</td>\n      <td>-0.014040</td>\n      <td>-256.84675</td>\n      <td>200.64</td>\n    </tr>\n    <tr>\n      <th>4</th>\n      <td>4</td>\n      <td>Gryffindor</td>\n      <td>Gaston</td>\n      <td>Gibbs</td>\n      <td>1998-09-27</td>\n      <td>Left</td>\n      <td>60158.0</td>\n      <td>436.775204</td>\n      <td>-7.820623</td>\n      <td>NaN</td>\n      <td>2.236</td>\n      <td>-444.262537</td>\n      <td>599.324514</td>\n      <td>-3.444377</td>\n      <td>937.434724</td>\n      <td>4.311066</td>\n      <td>-0.264070</td>\n      <td>-256.38730</td>\n      <td>157.98</td>\n    </tr>\n    <tr>\n      <th>...</th>\n      <td>...</td>\n      <td>...</td>\n      <td>...</td>\n      <td>...</td>\n      <td>...</td>\n      <td>...</td>\n      <td>...</td>\n      <td>...</td>\n      <td>...</td>\n      <td>...</td>\n      <td>...</td>\n      <td>...</td>\n      <td>...</td>\n      <td>...</td>\n      <td>...</td>\n      <td>...</td>\n      <td>...</td>\n      <td>...</td>\n      <td>...</td>\n    </tr>\n    <tr>\n      <th>1595</th>\n      <td>1595</td>\n      <td>Gryffindor</td>\n      <td>Jung</td>\n      <td>Blank</td>\n      <td>2001-09-14</td>\n      <td>Right</td>\n      <td>49009.0</td>\n      <td>354.280086</td>\n      <td>-4.541837</td>\n      <td>-3.542801</td>\n      <td>5.702</td>\n      <td>-497.235066</td>\n      <td>618.220213</td>\n      <td>-5.231721</td>\n      <td>964.219853</td>\n      <td>3.389086</td>\n      <td>-0.649983</td>\n      <td>-250.39401</td>\n      <td>185.83</td>\n    </tr>\n    <tr>\n      <th>1596</th>\n      <td>1596</td>\n      <td>Slytherin</td>\n      <td>Shelli</td>\n      <td>Lock</td>\n      <td>1998-03-12</td>\n      <td>Left</td>\n      <td>63296.0</td>\n      <td>367.531174</td>\n      <td>6.061064</td>\n      <td>-3.675312</td>\n      <td>1.757</td>\n      <td>-643.271092</td>\n      <td>445.827565</td>\n      <td>2.238112</td>\n      <td>1056.147366</td>\n      <td>5.825263</td>\n      <td>-0.333962</td>\n      <td>-246.42719</td>\n      <td>44.80</td>\n    </tr>\n    <tr>\n      <th>1597</th>\n      <td>1597</td>\n      <td>Gryffindor</td>\n      <td>Benjamin</td>\n      <td>Christensen</td>\n      <td>1999-10-24</td>\n      <td>Right</td>\n      <td>63905.0</td>\n      <td>544.018925</td>\n      <td>-3.203269</td>\n      <td>-5.440189</td>\n      <td>6.065</td>\n      <td>-385.150457</td>\n      <td>635.211486</td>\n      <td>-5.984257</td>\n      <td>953.866685</td>\n      <td>1.709808</td>\n      <td>0.071569</td>\n      <td>-251.63679</td>\n      <td>198.47</td>\n    </tr>\n    <tr>\n      <th>1598</th>\n      <td>1598</td>\n      <td>Hufflepuff</td>\n      <td>Charlotte</td>\n      <td>Dillon</td>\n      <td>2001-09-21</td>\n      <td>Left</td>\n      <td>82713.0</td>\n      <td>453.676219</td>\n      <td>3.442831</td>\n      <td>-4.536762</td>\n      <td>6.738</td>\n      <td>-831.741123</td>\n      <td>383.444937</td>\n      <td>3.813111</td>\n      <td>1087.949205</td>\n      <td>3.904100</td>\n      <td>-0.531875</td>\n      <td>-246.19072</td>\n      <td>-76.81</td>\n    </tr>\n    <tr>\n      <th>1599</th>\n      <td>1599</td>\n      <td>Hufflepuff</td>\n      <td>Kylie</td>\n      <td>Nowak</td>\n      <td>2000-08-21</td>\n      <td>Left</td>\n      <td>48639.0</td>\n      <td>688.911989</td>\n      <td>5.421046</td>\n      <td>-6.889120</td>\n      <td>6.593</td>\n      <td>-234.207911</td>\n      <td>339.775154</td>\n      <td>7.208415</td>\n      <td>1034.928004</td>\n      <td>2.052215</td>\n      <td>0.150532</td>\n      <td>-244.02063</td>\n      <td>-54.77</td>\n    </tr>\n  </tbody>\n</table>\n<p>1600 rows × 19 columns</p>\n</div>"
     },
     "execution_count": 13,
     "metadata": {},
     "output_type": "execute_result"
    }
   ],
   "source": [
    "dt = pd.read_csv('datasets/dataset_train.csv')\n",
    "dt"
   ]
  },
  {
   "cell_type": "code",
   "execution_count": 14,
   "id": "3385c5be",
   "metadata": {},
   "outputs": [
    {
     "data": {
      "text/plain": "            Index     Arithmancy    Astronomy    Herbology  \\\ncount  1600.00000    1566.000000  1568.000000  1567.000000   \nmean    799.50000   49634.570243    39.797131     1.141020   \nstd     462.02453   16679.806036   520.298268     5.219682   \nmin       0.00000  -24370.000000  -966.740546   -10.295663   \n25%     399.75000   38511.500000  -489.551387    -4.308182   \n50%     799.50000   49013.500000   260.289446     3.469012   \n75%    1199.25000   60811.250000   524.771949     5.419183   \nmax    1599.00000  104956.000000  1016.211940    11.612895   \n\n       Defense Against the Dark Arts   Divination  Muggle Studies  \\\ncount                    1569.000000  1561.000000     1565.000000   \nmean                       -0.387863     3.153910     -224.589915   \nstd                         5.212794     4.155301      486.344840   \nmin                       -10.162119    -8.727000    -1086.496835   \n25%                        -5.259095     3.099000     -577.580096   \n50%                        -2.589342     4.624000     -419.164294   \n75%                         4.904680     5.667000      254.994857   \nmax                         9.667405    10.032000     1092.388611   \n\n       Ancient Runes  History of Magic  Transfiguration      Potions  \\\ncount    1565.000000       1557.000000      1566.000000  1570.000000   \nmean      495.747970          2.963095      1030.096946     5.950373   \nstd       106.285165          4.425775        44.125116     3.147854   \nmin       283.869609         -8.858993       906.627320    -4.697484   \n25%       397.511047          2.218653      1026.209993     3.646785   \n50%       463.918305          4.378176      1045.506996     5.874837   \n75%       597.492230          5.825242      1058.436410     8.248173   \nmax       745.396220         11.889713      1098.958201    13.536762   \n\n       Care of Magical Creatures       Charms       Flying  \ncount                1560.000000  1600.000000  1600.000000  \nmean                   -0.053427  -243.374409    21.958012  \nstd                     0.971457     8.783640    97.631602  \nmin                    -3.313676  -261.048920  -181.470000  \n25%                    -0.671606  -250.652600   -41.870000  \n50%                    -0.044811  -244.867765    -2.515000  \n75%                     0.589919  -232.552305    50.560000  \nmax                     3.056546  -225.428140   279.070000  ",
      "text/html": "<div>\n<style scoped>\n    .dataframe tbody tr th:only-of-type {\n        vertical-align: middle;\n    }\n\n    .dataframe tbody tr th {\n        vertical-align: top;\n    }\n\n    .dataframe thead th {\n        text-align: right;\n    }\n</style>\n<table border=\"1\" class=\"dataframe\">\n  <thead>\n    <tr style=\"text-align: right;\">\n      <th></th>\n      <th>Index</th>\n      <th>Arithmancy</th>\n      <th>Astronomy</th>\n      <th>Herbology</th>\n      <th>Defense Against the Dark Arts</th>\n      <th>Divination</th>\n      <th>Muggle Studies</th>\n      <th>Ancient Runes</th>\n      <th>History of Magic</th>\n      <th>Transfiguration</th>\n      <th>Potions</th>\n      <th>Care of Magical Creatures</th>\n      <th>Charms</th>\n      <th>Flying</th>\n    </tr>\n  </thead>\n  <tbody>\n    <tr>\n      <th>count</th>\n      <td>1600.00000</td>\n      <td>1566.000000</td>\n      <td>1568.000000</td>\n      <td>1567.000000</td>\n      <td>1569.000000</td>\n      <td>1561.000000</td>\n      <td>1565.000000</td>\n      <td>1565.000000</td>\n      <td>1557.000000</td>\n      <td>1566.000000</td>\n      <td>1570.000000</td>\n      <td>1560.000000</td>\n      <td>1600.000000</td>\n      <td>1600.000000</td>\n    </tr>\n    <tr>\n      <th>mean</th>\n      <td>799.50000</td>\n      <td>49634.570243</td>\n      <td>39.797131</td>\n      <td>1.141020</td>\n      <td>-0.387863</td>\n      <td>3.153910</td>\n      <td>-224.589915</td>\n      <td>495.747970</td>\n      <td>2.963095</td>\n      <td>1030.096946</td>\n      <td>5.950373</td>\n      <td>-0.053427</td>\n      <td>-243.374409</td>\n      <td>21.958012</td>\n    </tr>\n    <tr>\n      <th>std</th>\n      <td>462.02453</td>\n      <td>16679.806036</td>\n      <td>520.298268</td>\n      <td>5.219682</td>\n      <td>5.212794</td>\n      <td>4.155301</td>\n      <td>486.344840</td>\n      <td>106.285165</td>\n      <td>4.425775</td>\n      <td>44.125116</td>\n      <td>3.147854</td>\n      <td>0.971457</td>\n      <td>8.783640</td>\n      <td>97.631602</td>\n    </tr>\n    <tr>\n      <th>min</th>\n      <td>0.00000</td>\n      <td>-24370.000000</td>\n      <td>-966.740546</td>\n      <td>-10.295663</td>\n      <td>-10.162119</td>\n      <td>-8.727000</td>\n      <td>-1086.496835</td>\n      <td>283.869609</td>\n      <td>-8.858993</td>\n      <td>906.627320</td>\n      <td>-4.697484</td>\n      <td>-3.313676</td>\n      <td>-261.048920</td>\n      <td>-181.470000</td>\n    </tr>\n    <tr>\n      <th>25%</th>\n      <td>399.75000</td>\n      <td>38511.500000</td>\n      <td>-489.551387</td>\n      <td>-4.308182</td>\n      <td>-5.259095</td>\n      <td>3.099000</td>\n      <td>-577.580096</td>\n      <td>397.511047</td>\n      <td>2.218653</td>\n      <td>1026.209993</td>\n      <td>3.646785</td>\n      <td>-0.671606</td>\n      <td>-250.652600</td>\n      <td>-41.870000</td>\n    </tr>\n    <tr>\n      <th>50%</th>\n      <td>799.50000</td>\n      <td>49013.500000</td>\n      <td>260.289446</td>\n      <td>3.469012</td>\n      <td>-2.589342</td>\n      <td>4.624000</td>\n      <td>-419.164294</td>\n      <td>463.918305</td>\n      <td>4.378176</td>\n      <td>1045.506996</td>\n      <td>5.874837</td>\n      <td>-0.044811</td>\n      <td>-244.867765</td>\n      <td>-2.515000</td>\n    </tr>\n    <tr>\n      <th>75%</th>\n      <td>1199.25000</td>\n      <td>60811.250000</td>\n      <td>524.771949</td>\n      <td>5.419183</td>\n      <td>4.904680</td>\n      <td>5.667000</td>\n      <td>254.994857</td>\n      <td>597.492230</td>\n      <td>5.825242</td>\n      <td>1058.436410</td>\n      <td>8.248173</td>\n      <td>0.589919</td>\n      <td>-232.552305</td>\n      <td>50.560000</td>\n    </tr>\n    <tr>\n      <th>max</th>\n      <td>1599.00000</td>\n      <td>104956.000000</td>\n      <td>1016.211940</td>\n      <td>11.612895</td>\n      <td>9.667405</td>\n      <td>10.032000</td>\n      <td>1092.388611</td>\n      <td>745.396220</td>\n      <td>11.889713</td>\n      <td>1098.958201</td>\n      <td>13.536762</td>\n      <td>3.056546</td>\n      <td>-225.428140</td>\n      <td>279.070000</td>\n    </tr>\n  </tbody>\n</table>\n</div>"
     },
     "execution_count": 14,
     "metadata": {},
     "output_type": "execute_result"
    }
   ],
   "source": [
    "dt.describe()"
   ]
  },
  {
   "cell_type": "code",
   "execution_count": 15,
   "id": "af1018fb",
   "metadata": {},
   "outputs": [
    {
     "name": "stdout",
     "output_type": "stream",
     "text": [
      "<class 'pandas.core.frame.DataFrame'>\n",
      "RangeIndex: 1600 entries, 0 to 1599\n",
      "Data columns (total 19 columns):\n",
      " #   Column                         Non-Null Count  Dtype  \n",
      "---  ------                         --------------  -----  \n",
      " 0   Index                          1600 non-null   int64  \n",
      " 1   Hogwarts House                 1600 non-null   object \n",
      " 2   First Name                     1600 non-null   object \n",
      " 3   Last Name                      1600 non-null   object \n",
      " 4   Birthday                       1600 non-null   object \n",
      " 5   Best Hand                      1600 non-null   object \n",
      " 6   Arithmancy                     1566 non-null   float64\n",
      " 7   Astronomy                      1568 non-null   float64\n",
      " 8   Herbology                      1567 non-null   float64\n",
      " 9   Defense Against the Dark Arts  1569 non-null   float64\n",
      " 10  Divination                     1561 non-null   float64\n",
      " 11  Muggle Studies                 1565 non-null   float64\n",
      " 12  Ancient Runes                  1565 non-null   float64\n",
      " 13  History of Magic               1557 non-null   float64\n",
      " 14  Transfiguration                1566 non-null   float64\n",
      " 15  Potions                        1570 non-null   float64\n",
      " 16  Care of Magical Creatures      1560 non-null   float64\n",
      " 17  Charms                         1600 non-null   float64\n",
      " 18  Flying                         1600 non-null   float64\n",
      "dtypes: float64(13), int64(1), object(5)\n",
      "memory usage: 237.6+ KB\n"
     ]
    }
   ],
   "source": [
    "dt.info()"
   ]
  },
  {
   "cell_type": "code",
   "execution_count": 28,
   "id": "3edbbfee",
   "metadata": {},
   "outputs": [
    {
     "data": {
      "text/plain": "(array([[   0., 1600.,    0.,    0.,    0.,    0.,    0.,    0.,    0.,\n            0.],\n        [   2.,    3.,   20.,  117.,  308.,  487.,  414.,  186.,   54.,\n            9.]]),\n array([-24370.0, -11437.4, 1495.2000000000007, 14427.800000000003,\n        27360.4, 40293.0, 53225.600000000006, 66158.2, 79090.8,\n        92023.40000000001, 104956.0], dtype=object),\n <a list of 2 BarContainer objects>)"
     },
     "execution_count": 28,
     "metadata": {},
     "output_type": "execute_result"
    },
    {
     "data": {
      "text/plain": "<Figure size 432x288 with 1 Axes>",
      "image/png": "[encoded data removed]"
     },
     "metadata": {
      "needs_background": "light"
     },
     "output_type": "display_data"
    }
   ],
   "source": [
    "courses_dt = dt.drop(['Index', 'First Name', 'Last Name', 'Birthday', 'Best Hand'], axis=1)\n",
    "test = dt[['Hogwarts House', 'Arithmancy']]\n",
    "plt.hist(test)"
   ]
  },
  {
   "cell_type": "code",
   "execution_count": 16,
   "outputs": [],
   "source": [],
   "metadata": {
    "collapsed": false,
    "pycharm": {
     "name": "#%%\n"
    }
   }
  },
  {
   "cell_type": "code",
   "execution_count": null,
   "outputs": [],
   "source": [],
   "metadata": {
    "collapsed": false,
    "pycharm": {
     "name": "#%%\n"
    }
   }
  }
 ],
 "metadata": {
  "kernelspec": {
   "display_name": "Python 3 (ipykernel)",
   "language": "python",
   "name": "python3"
  },
  "language_info": {
   "codemirror_mode": {
    "name": "ipython",
    "version": 3
   },
   "file_extension": ".py",
   "mimetype": "text/x-python",
   "name": "python",
   "nbconvert_exporter": "python",
   "pygments_lexer": "ipython3",
   "version": "3.9.7"
  }
 },
 "nbformat": 4,
 "nbformat_minor": 5
}